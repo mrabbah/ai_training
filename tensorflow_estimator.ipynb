{
 "cells": [
  {
   "cell_type": "markdown",
   "metadata": {},
   "source": [
    "# TensorFlow Estimator demo\n",
    "tf.estimator is a high-level TensorFlow library that simplifies the mechanics of machine learning, including the following:\n",
    "* running training loops\n",
    "* runnint evaluation loops\n",
    "* managing data sets\n",
    "\n",
    "## Basic usage:"
   ]
  },
  {
   "cell_type": "code",
   "execution_count": 1,
   "metadata": {},
   "outputs": [],
   "source": [
    "import numpy as np\n",
    "import tensorflow as tf"
   ]
  },
  {
   "cell_type": "markdown",
   "metadata": {},
   "source": [
    "Declare list of features. We only have numeric feature."
   ]
  },
  {
   "cell_type": "code",
   "execution_count": 2,
   "metadata": {},
   "outputs": [],
   "source": [
    "feature_columns = [tf.feature_column.numeric_column(\"x\", shape=[1])]"
   ]
  },
  {
   "cell_type": "markdown",
   "metadata": {},
   "source": [
    "An estimator is the front end to invoke training (fitting) and evaluation (inference). There are many predefined types like linear regression, linear classification, and many neural network classifiers and regressors."
   ]
  },
  {
   "cell_type": "code",
   "execution_count": 3,
   "metadata": {},
   "outputs": [
    {
     "name": "stdout",
     "output_type": "stream",
     "text": [
      "INFO:tensorflow:Using default config.\n",
      "WARNING:tensorflow:Using temporary folder as model directory: /var/folders/jf/_k92xf7x1n968vrldr_8vh7w0000gq/T/tmp8e0asqbc\n",
      "INFO:tensorflow:Using config: {'_model_dir': '/var/folders/jf/_k92xf7x1n968vrldr_8vh7w0000gq/T/tmp8e0asqbc', '_tf_random_seed': None, '_save_summary_steps': 100, '_save_checkpoints_steps': None, '_save_checkpoints_secs': 600, '_session_config': None, '_keep_checkpoint_max': 5, '_keep_checkpoint_every_n_hours': 10000, '_log_step_count_steps': 100, '_service': None, '_cluster_spec': <tensorflow.python.training.server_lib.ClusterSpec object at 0x11bdb1080>, '_task_type': 'worker', '_task_id': 0, '_master': '', '_is_chief': True, '_num_ps_replicas': 0, '_num_worker_replicas': 1}\n"
     ]
    }
   ],
   "source": [
    "estimator = tf.estimator.LinearRegressor(feature_columns=feature_columns)"
   ]
  },
  {
   "cell_type": "markdown",
   "metadata": {},
   "source": [
    "Here we use two data sets: one for training and one for evaluation, We have to tell the function how many batches of data (num_epochs) we want and how big each batch should be."
   ]
  },
  {
   "cell_type": "code",
   "execution_count": 4,
   "metadata": {},
   "outputs": [],
   "source": [
    "x_train = np.array([1., 2., 3., 4.])\n",
    "y_train = np.array([0., -1., -2., -3.])\n",
    "x_eval = np.array([2., 5., 8., 1.])\n",
    "y_eval = np.array([-1.01, -4.1, -7, 0.])\n",
    "input_fn = tf.estimator.inputs.numpy_input_fn({\"x\": x_train}, y_train, batch_size=4, num_epochs=None, shuffle=True)\n",
    "train_input_fn = tf.estimator.inputs.numpy_input_fn({\"x\": x_train}, y_train, batch_size=4, num_epochs=1000, shuffle=False)\n",
    "eval_input_fn = tf.estimator.inputs.numpy_input_fn({\"x\": x_eval}, y_eval, batch_size=4, num_epochs=1000, shuffle=False)\n"
   ]
  },
  {
   "cell_type": "markdown",
   "metadata": {},
   "source": [
    "We can invoke 1000 training steps by invoking the  method and passing the training data set."
   ]
  },
  {
   "cell_type": "code",
   "execution_count": 5,
   "metadata": {},
   "outputs": [
    {
     "name": "stdout",
     "output_type": "stream",
     "text": [
      "INFO:tensorflow:Create CheckpointSaverHook.\n",
      "INFO:tensorflow:Saving checkpoints for 1 into /var/folders/jf/_k92xf7x1n968vrldr_8vh7w0000gq/T/tmp8e0asqbc/model.ckpt.\n",
      "INFO:tensorflow:loss = 11.0, step = 1\n",
      "INFO:tensorflow:global_step/sec: 1143.25\n",
      "INFO:tensorflow:loss = 0.08665, step = 101 (0.090 sec)\n",
      "INFO:tensorflow:global_step/sec: 1496.02\n",
      "INFO:tensorflow:loss = 0.00774347, step = 201 (0.066 sec)\n",
      "INFO:tensorflow:global_step/sec: 1346.62\n",
      "INFO:tensorflow:loss = 0.00419927, step = 301 (0.074 sec)\n",
      "INFO:tensorflow:global_step/sec: 1488.92\n",
      "INFO:tensorflow:loss = 0.00024257, step = 401 (0.067 sec)\n",
      "INFO:tensorflow:global_step/sec: 1313.25\n",
      "INFO:tensorflow:loss = 0.00016043, step = 501 (0.076 sec)\n",
      "INFO:tensorflow:global_step/sec: 1284.75\n",
      "INFO:tensorflow:loss = 1.62773e-05, step = 601 (0.078 sec)\n",
      "INFO:tensorflow:global_step/sec: 1147.5\n",
      "INFO:tensorflow:loss = 1.00691e-06, step = 701 (0.087 sec)\n",
      "INFO:tensorflow:global_step/sec: 1201.78\n",
      "INFO:tensorflow:loss = 6.15595e-07, step = 801 (0.083 sec)\n",
      "INFO:tensorflow:global_step/sec: 1232.67\n",
      "INFO:tensorflow:loss = 9.65073e-08, step = 901 (0.081 sec)\n",
      "INFO:tensorflow:Saving checkpoints for 1000 into /var/folders/jf/_k92xf7x1n968vrldr_8vh7w0000gq/T/tmp8e0asqbc/model.ckpt.\n",
      "INFO:tensorflow:Loss for final step: 1.41402e-08.\n"
     ]
    },
    {
     "data": {
      "text/plain": [
       "<tensorflow.python.estimator.canned.linear.LinearRegressor at 0x11bdb1cc0>"
      ]
     },
     "execution_count": 5,
     "metadata": {},
     "output_type": "execute_result"
    }
   ],
   "source": [
    "estimator.train(input_fn=input_fn, steps=1000)"
   ]
  },
  {
   "cell_type": "markdown",
   "metadata": {},
   "source": [
    "Here we evaluate how well our model did."
   ]
  },
  {
   "cell_type": "code",
   "execution_count": 6,
   "metadata": {},
   "outputs": [
    {
     "name": "stdout",
     "output_type": "stream",
     "text": [
      "INFO:tensorflow:Starting evaluation at 2017-12-27-10:32:42\n",
      "INFO:tensorflow:Restoring parameters from /var/folders/jf/_k92xf7x1n968vrldr_8vh7w0000gq/T/tmp8e0asqbc/model.ckpt-1000\n",
      "INFO:tensorflow:Finished evaluation at 2017-12-27-10:32:43\n",
      "INFO:tensorflow:Saving dict for global step 1000: average_loss = 2.75963e-09, global_step = 1000, loss = 1.10385e-08\n",
      "INFO:tensorflow:Starting evaluation at 2017-12-27-10:32:43\n",
      "INFO:tensorflow:Restoring parameters from /var/folders/jf/_k92xf7x1n968vrldr_8vh7w0000gq/T/tmp8e0asqbc/model.ckpt-1000\n",
      "INFO:tensorflow:Finished evaluation at 2017-12-27-10:32:44\n",
      "INFO:tensorflow:Saving dict for global step 1000: average_loss = 0.00253007, global_step = 1000, loss = 0.0101203\n",
      "train metrics: {'average_loss': 2.7596332e-09, 'loss': 1.1038533e-08, 'global_step': 1000}\n",
      "eval metrics: {'average_loss': 0.0025300744, 'loss': 0.010120298, 'global_step': 1000}\n"
     ]
    }
   ],
   "source": [
    "train_metrics = estimator.evaluate(input_fn=train_input_fn)\n",
    "eval_metrics = estimator.evaluate(input_fn=eval_input_fn)\n",
    "print(\"train metrics: %r\"% train_metrics)\n",
    "print(\"eval metrics: %r\"% eval_metrics)"
   ]
  },
  {
   "cell_type": "code",
   "execution_count": null,
   "metadata": {},
   "outputs": [],
   "source": []
  }
 ],
 "metadata": {
  "kernelspec": {
   "display_name": "Python 3",
   "language": "python",
   "name": "python3"
  },
  "language_info": {
   "codemirror_mode": {
    "name": "ipython",
    "version": 3
   },
   "file_extension": ".py",
   "mimetype": "text/x-python",
   "name": "python",
   "nbconvert_exporter": "python",
   "pygments_lexer": "ipython3",
   "version": "3.6.2"
  }
 },
 "nbformat": 4,
 "nbformat_minor": 2
}
