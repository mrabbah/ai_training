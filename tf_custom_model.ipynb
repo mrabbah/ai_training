{
 "cells": [
  {
   "cell_type": "markdown",
   "metadata": {},
   "source": [
    "# TensorFlow Custom Model\n",
    "To define a custom model that works with tf.estimator, we need to use tf.estimator.Estimator. tf.estimator.LinearRegressor is actually a sub-class of tf.estimator.Estimator. Instead of sub-classing Estimator, we simply provide Estimator a function model_fn that tells tf.estimator how it can evaluate predictions, training steps, and loss:"
   ]
  },
  {
   "cell_type": "code",
   "execution_count": 1,
   "metadata": {},
   "outputs": [],
   "source": [
    "import numpy as np\n",
    "import tensorflow as tf"
   ]
  },
  {
   "cell_type": "code",
   "execution_count": 2,
   "metadata": {},
   "outputs": [],
   "source": [
    "# Declare list of features, we only have one real-valued feature\n",
    "def model_fn(features, labels, mode):\n",
    "    # Build a linear model and predict values\n",
    "    W = tf.get_variable(\"W\", [1], dtype=tf.float64)\n",
    "    b = tf.get_variable(\"b\", [1], dtype=tf.float64)\n",
    "    y = W * features['x'] + b\n",
    "    # Loss sub-graph\n",
    "    loss = tf.reduce_sum(tf.square(y - labels))\n",
    "    # Training sub-graph\n",
    "    global_step = tf.train.get_global_step()\n",
    "    optimizer = tf.train.GradientDescentOptimizer(0.01)\n",
    "    train = tf.group(optimizer.minimize(loss),\n",
    "                    tf.assign_add(global_step, 1))\n",
    "    # EstimatorSpec connects subgraphs we build to the\n",
    "    # appropirate functionality.\n",
    "    return tf.estimator.EstimatorSpec(mode=mode, predictions=y,\n",
    "                                     loss=loss,train_op=train)\n",
    "\n"
   ]
  },
  {
   "cell_type": "code",
   "execution_count": 3,
   "metadata": {},
   "outputs": [
    {
     "name": "stdout",
     "output_type": "stream",
     "text": [
      "INFO:tensorflow:Using default config.\n",
      "WARNING:tensorflow:Using temporary folder as model directory: /var/folders/jf/_k92xf7x1n968vrldr_8vh7w0000gq/T/tmpe20rp9ej\n",
      "INFO:tensorflow:Using config: {'_model_dir': '/var/folders/jf/_k92xf7x1n968vrldr_8vh7w0000gq/T/tmpe20rp9ej', '_tf_random_seed': None, '_save_summary_steps': 100, '_save_checkpoints_steps': None, '_save_checkpoints_secs': 600, '_session_config': None, '_keep_checkpoint_max': 5, '_keep_checkpoint_every_n_hours': 10000, '_log_step_count_steps': 100, '_service': None, '_cluster_spec': <tensorflow.python.training.server_lib.ClusterSpec object at 0x11bd75f98>, '_task_type': 'worker', '_task_id': 0, '_master': '', '_is_chief': True, '_num_ps_replicas': 0, '_num_worker_replicas': 1}\n"
     ]
    }
   ],
   "source": [
    "estimator = tf.estimator.Estimator(model_fn=model_fn)\n",
    "# define our data sets\n",
    "x_train = np.array([1., 2., 3., 4.])\n",
    "y_train = np.array([0., -1., -2., -3.])\n",
    "x_eval = np.array([2., 5., 8., 1.])\n",
    "y_eval = np.array([-1.01, -4.1, -7., 0.])\n",
    "input_fn = tf.estimator.inputs.numpy_input_fn(\n",
    "    {\"x\": x_train}, y_train, batch_size=4, num_epochs=None, shuffle=True)\n",
    "train_input_fn = tf.estimator.inputs.numpy_input_fn(\n",
    "    {\"x\": x_train}, y_train, batch_size=4, num_epochs=1000, shuffle=False)\n",
    "eval_input_fn = tf.estimator.inputs.numpy_input_fn(\n",
    "    {\"x\": x_eval}, y_eval, batch_size=4, num_epochs=1000, shuffle=False)\n"
   ]
  },
  {
   "cell_type": "code",
   "execution_count": 4,
   "metadata": {},
   "outputs": [
    {
     "name": "stdout",
     "output_type": "stream",
     "text": [
      "INFO:tensorflow:Create CheckpointSaverHook.\n",
      "INFO:tensorflow:Saving checkpoints for 1 into /var/folders/jf/_k92xf7x1n968vrldr_8vh7w0000gq/T/tmpe20rp9ej/model.ckpt.\n",
      "INFO:tensorflow:loss = 14.0762681948, step = 1\n",
      "INFO:tensorflow:global_step/sec: 1262.63\n",
      "INFO:tensorflow:loss = 0.187070850491, step = 101 (0.081 sec)\n",
      "INFO:tensorflow:global_step/sec: 1497.25\n",
      "INFO:tensorflow:loss = 0.0542616548427, step = 201 (0.067 sec)\n",
      "INFO:tensorflow:global_step/sec: 1452.52\n",
      "INFO:tensorflow:loss = 0.00355931388266, step = 301 (0.069 sec)\n",
      "INFO:tensorflow:global_step/sec: 1558.39\n",
      "INFO:tensorflow:loss = 0.000289035574781, step = 401 (0.064 sec)\n",
      "INFO:tensorflow:global_step/sec: 1547.12\n",
      "INFO:tensorflow:loss = 1.73999951022e-05, step = 501 (0.065 sec)\n",
      "INFO:tensorflow:global_step/sec: 1506.05\n",
      "INFO:tensorflow:loss = 1.71094899071e-06, step = 601 (0.066 sec)\n",
      "INFO:tensorflow:global_step/sec: 1482.93\n",
      "INFO:tensorflow:loss = 8.30022023471e-08, step = 701 (0.067 sec)\n",
      "INFO:tensorflow:global_step/sec: 1439.08\n",
      "INFO:tensorflow:loss = 1.60460939028e-08, step = 801 (0.069 sec)\n",
      "INFO:tensorflow:global_step/sec: 1478.78\n",
      "INFO:tensorflow:loss = 9.07195843081e-10, step = 901 (0.067 sec)\n",
      "INFO:tensorflow:Saving checkpoints for 1000 into /var/folders/jf/_k92xf7x1n968vrldr_8vh7w0000gq/T/tmpe20rp9ej/model.ckpt.\n",
      "INFO:tensorflow:Loss for final step: 1.70345815202e-10.\n",
      "INFO:tensorflow:Starting evaluation at 2017-12-27-10:54:32\n",
      "INFO:tensorflow:Restoring parameters from /var/folders/jf/_k92xf7x1n968vrldr_8vh7w0000gq/T/tmpe20rp9ej/model.ckpt-1000\n",
      "INFO:tensorflow:Finished evaluation at 2017-12-27-10:54:33\n",
      "INFO:tensorflow:Saving dict for global step 1000: global_step = 1000, loss = 1.01764e-10\n",
      "INFO:tensorflow:Starting evaluation at 2017-12-27-10:54:33\n",
      "INFO:tensorflow:Restoring parameters from /var/folders/jf/_k92xf7x1n968vrldr_8vh7w0000gq/T/tmpe20rp9ej/model.ckpt-1000\n",
      "INFO:tensorflow:Finished evaluation at 2017-12-27-10:54:34\n",
      "INFO:tensorflow:Saving dict for global step 1000: global_step = 1000, loss = 0.0101013\n",
      "train metrics: {'loss': 1.0176406e-10, 'global_step': 1000}\n",
      "eval metrics: {'loss': 0.010101312, 'global_step': 1000}\n"
     ]
    }
   ],
   "source": [
    "# train\n",
    "estimator.train(input_fn=input_fn, steps=1000)\n",
    "# Here we evaluate how well our model did.\n",
    "train_metrics = estimator.evaluate(input_fn=train_input_fn)\n",
    "eval_metrics = estimator.evaluate(input_fn=eval_input_fn)\n",
    "print(\"train metrics: %r\"% train_metrics)\n",
    "print(\"eval metrics: %r\"% eval_metrics)"
   ]
  },
  {
   "cell_type": "code",
   "execution_count": null,
   "metadata": {},
   "outputs": [],
   "source": []
  }
 ],
 "metadata": {
  "kernelspec": {
   "display_name": "Python 3",
   "language": "python",
   "name": "python3"
  },
  "language_info": {
   "codemirror_mode": {
    "name": "ipython",
    "version": 3
   },
   "file_extension": ".py",
   "mimetype": "text/x-python",
   "name": "python",
   "nbconvert_exporter": "python",
   "pygments_lexer": "ipython3",
   "version": "3.6.2"
  }
 },
 "nbformat": 4,
 "nbformat_minor": 2
}
