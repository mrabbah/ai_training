{
 "cells": [
  {
   "cell_type": "markdown",
   "metadata": {},
   "source": [
    "# Prerequisites\n",
    "This guide supposes that TensorFlow and Docker are already installed.\n",
    "\n",
    "# Preparing environment\n",
    "My working directory is  “/Users/rabbah/Documents/projets/ai_training” change it with your working directory path\n",
    "1. First I will go to my working directory\n",
    "```bash\n",
    "cd /Users/rabbah/Documents/projets/ai_training\n",
    "```\n",
    "2. After that we create a directory named “tf_files”\n",
    "```bash\n",
    "mkdir tf_files\n",
    "cd tf_files/\n",
    "```\n",
    "3. At the “tf_files” directory level we will download a folder that contain some flowers images \n",
    "```bash\n",
    "curl -O http://download.tensorflow.org/example_images/flower_photos.tgz\n",
    "tar xzf flower_photos.tgz\n",
    "```\n",
    "4. After that we install a TensorFlow image in Docker container, and we set the working directory of this image to the current folder:\n",
    "```bash\n",
    "docker run -it -v `pwd`:`pwd` -w `pwd` gcr.io/tensorflow/tensorflow:latest-devel\n",
    "```\n",
    "5. The TensorFlow image contain already a floder “/tensorflow” that contain all necessary dependencies (we execute git pull to retrieve some examples):\n",
    "```bash\n",
    "cd /tensorflow/\n",
    "git pull\n",
    "```\n",
    "6. After that we set some variables that will help (feel free to change mydir variable to your adequate folder)\n",
    "```bash\n",
    "mydir=/Users/rabbah/Documents/projets/ai_training/tf_files\n",
    "tfdir=/tensorflow/tensorflow/examples/image_retraining\n",
    "cd $mydir\n",
    "```\n",
    "7. Now we lunch the training command:\n",
    "```bash\n",
    "python $tfdir/retrain.py --bottleneck_dir=$mydir/bottlenecks --how_many_training_steps 500 --model_dir=$mydir/inception --output_graph=$mydir/retrained_graph.pb --output_labels=$mydir/retrained_labels.txt --image_dir $mydir/flower_photos\n",
    "```\n",
    "After some minutes we got the following result:\n",
    "\n",
    "![Training result](images/imgclassficationresult.png)\n",
    "\n",
    "And if we list directory content we got:\n",
    "\n",
    "![Directory content after training process](images/tf_files_ls.png)\n"
   ]
  },
  {
   "cell_type": "markdown",
   "metadata": {},
   "source": [
    "# Testing our model:"
   ]
  },
  {
   "cell_type": "code",
   "execution_count": 3,
   "metadata": {},
   "outputs": [],
   "source": [
    "import tensorflow as tf\n",
    "import sys\n",
    "\n",
    "def predict(image_path):\n",
    "    \n",
    "    # Read in the image_data\n",
    "    image_data = tf.gfile.FastGFile(image_path, 'rb').read()\n",
    "\n",
    "    # Loads label file, strips off carriage return\n",
    "    label_lines = [line.rstrip() for line \n",
    "                       in tf.gfile.GFile(\"/Users/rabbah/Documents/projets/ai_training/tf_files/retrained_labels.txt\")]\n",
    "\n",
    "    # Unpersists graph from file\n",
    "    with tf.gfile.FastGFile(\"/Users/rabbah/Documents/projets/ai_training/tf_files/retrained_graph.pb\", 'rb') as f:\n",
    "        graph_def = tf.GraphDef()\n",
    "        graph_def.ParseFromString(f.read())\n",
    "        _ = tf.import_graph_def(graph_def, name='')\n",
    "\n",
    "    with tf.Session() as sess:\n",
    "        # Feed the image_data as input to the graph and get first prediction\n",
    "        softmax_tensor = sess.graph.get_tensor_by_name('final_result:0')\n",
    "\n",
    "        predictions = sess.run(softmax_tensor, \\\n",
    "                 {'DecodeJpeg/contents:0': image_data})\n",
    "\n",
    "        # Sort to show labels of first prediction in order of confidence\n",
    "        top_k = predictions[0].argsort()[-len(predictions[0]):][::-1]\n",
    "\n",
    "        for node_id in top_k:\n",
    "            human_string = label_lines[node_id]\n",
    "            score = predictions[0][node_id]\n",
    "            print('%s (score = %.5f)' % (human_string, score))\n"
   ]
  },
  {
   "cell_type": "markdown",
   "metadata": {},
   "source": [
    "Lets give it a try :"
   ]
  },
  {
   "cell_type": "code",
   "execution_count": 5,
   "metadata": {},
   "outputs": [
    {
     "name": "stdout",
     "output_type": "stream",
     "text": [
      "daisy (score = 0.98994)\n",
      "sunflowers (score = 0.00773)\n",
      "dandelion (score = 0.00168)\n",
      "tulips (score = 0.00060)\n",
      "roses (score = 0.00005)\n"
     ]
    }
   ],
   "source": [
    "predict('images/photo1.jpg')"
   ]
  },
  {
   "cell_type": "code",
   "execution_count": 6,
   "metadata": {},
   "outputs": [
    {
     "name": "stdout",
     "output_type": "stream",
     "text": [
      "roses (score = 0.89137)\n",
      "tulips (score = 0.10531)\n",
      "sunflowers (score = 0.00177)\n",
      "dandelion (score = 0.00123)\n",
      "daisy (score = 0.00032)\n"
     ]
    }
   ],
   "source": [
    "predict('images/photo2.jpg')"
   ]
  },
  {
   "cell_type": "code",
   "execution_count": null,
   "metadata": {},
   "outputs": [],
   "source": []
  }
 ],
 "metadata": {
  "kernelspec": {
   "display_name": "Python 3",
   "language": "python",
   "name": "python3"
  },
  "language_info": {
   "codemirror_mode": {
    "name": "ipython",
    "version": 3
   },
   "file_extension": ".py",
   "mimetype": "text/x-python",
   "name": "python",
   "nbconvert_exporter": "python",
   "pygments_lexer": "ipython3",
   "version": "3.6.2"
  }
 },
 "nbformat": 4,
 "nbformat_minor": 2
}
